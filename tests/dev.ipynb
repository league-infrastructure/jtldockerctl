{
 "cells": [
  {
   "cell_type": "code",
   "execution_count": 15,
   "metadata": {},
   "outputs": [
    {
     "name": "stdout",
     "output_type": "stream",
     "text": [
      "The autoreload extension is already loaded. To reload it, use:\n",
      "  %reload_ext autoreload\n"
     ]
    }
   ],
   "source": [
    "%load_ext autoreload\n",
    "%autoreload 2\n",
    "\n",
    "import docker\n",
    "import logging\n",
    "from jtldockerctl.dctl import *\n",
    "import hashlib\n",
    "from names_generator import generate_name\n",
    "from jtlutil.config import get_config\n",
    "\n",
    "config = get_config('./config.env')\n",
    "\n",
    "logging.basicConfig(level=logging.ERROR)\n",
    "logger.setLevel(logging.ERROR)\n",
    "\n",
    "client = docker.DockerClient(base_url=config.SSH_URI )\n",
    "\n",
    "ensure_network_exists(client, 'x11', is_external=False, network_type=\"bridge\")\n",
    "ensure_network_exists(client, 'caddy', is_external=True, network_type=\"bridge\")\n"
   ]
  },
  {
   "cell_type": "code",
   "execution_count": 18,
   "metadata": {},
   "outputs": [
    {
     "name": "stdout",
     "output_type": "stream",
     "text": [
      "----\n",
      "daead746391fd1635ae4b836421b6dce6b1ef580eff6084522db99b92ade545b jed.do.jointheleague.org\n",
      "deb13fc38d62d4cda951a882eeeee8bf2b579091c4168514a316093d7810a8a0 osvaldo.do.jointheleague.org\n",
      "d92238a3fd0896fdd116d3872507bad7fdef888eb7ac474dc0abe3e9e2e0b7d8 eric.do.jointheleague.org\n"
     ]
    }
   ],
   "source": [
    "def make_servers(usernames):\n",
    "    servers = []\n",
    "    for username in usernames:\n",
    "        nvc, pa = create_cs_pair(client, config, config.IMAGES_PYTHONCS, username)\n",
    "        yield (nvc, pa)\n",
    "    return servers\n",
    "\n",
    "print('----')\n",
    "for nvc, pa in make_servers(['jed','osvaldo', 'eric']):\n",
    "    print(nvc.id, pa.labels['caddy'])\n"
   ]
  },
  {
   "cell_type": "code",
   "execution_count": 20,
   "metadata": {},
   "outputs": [
    {
     "name": "stdout",
     "output_type": "stream",
     "text": [
      "418f2d1e1b825ae8138388d4234072c4d82f03184093ac788877df94169a452a eric-busboom-org.do.jointheleague.org\n",
      "6c17b76099966f8253e99da7b0165a1ecf0bd13b1d17598ad910d948cb209d8e eric-busboom-org-novnc.do.jointheleague.org\n",
      "d61a1b88e11151793d37f6525a739240f05290979abd5c9321106ed6a76fe23e eric.do.jointheleague.org\n",
      "d92238a3fd0896fdd116d3872507bad7fdef888eb7ac474dc0abe3e9e2e0b7d8 eric-novnc.do.jointheleague.org\n",
      "5ba78e2737d264cfaf240bfd2b7864f63b9c0404ed0c54ccd35548a7cb859507 osvaldo.do.jointheleague.org\n",
      "deb13fc38d62d4cda951a882eeeee8bf2b579091c4168514a316093d7810a8a0 osvaldo-novnc.do.jointheleague.org\n",
      "c1c107fbf371d62c9a5613f0d1da3dc404ddcc1605e38c02cc8255f8cbadcb05 jed.do.jointheleague.org\n",
      "daead746391fd1635ae4b836421b6dce6b1ef580eff6084522db99b92ade545b jed-novnc.do.jointheleague.org\n"
     ]
    }
   ],
   "source": [
    "\n",
    "containers = client.containers.list(filters={\"label\": f\"jtl\"}, all=True)\n",
    "\n",
    "for c in containers:\n",
    "    print(c.id, c.labels['caddy'])\n",
    "    c.remove(force=True)    "
   ]
  },
  {
   "cell_type": "code",
   "execution_count": 19,
   "metadata": {},
   "outputs": [
    {
     "data": {
      "text/plain": [
       "'eric.do.jointheleague.org'"
      ]
     },
     "execution_count": 19,
     "metadata": {},
     "output_type": "execute_result"
    }
   ],
   "source": [
    "pa.labels['caddy']"
   ]
  },
  {
   "cell_type": "code",
   "execution_count": null,
   "metadata": {},
   "outputs": [],
   "source": []
  }
 ],
 "metadata": {
  "kernelspec": {
   "display_name": ".venv",
   "language": "python",
   "name": "python3"
  },
  "language_info": {
   "codemirror_mode": {
    "name": "ipython",
    "version": 3
   },
   "file_extension": ".py",
   "mimetype": "text/x-python",
   "name": "python",
   "nbconvert_exporter": "python",
   "pygments_lexer": "ipython3",
   "version": "3.11.11"
  }
 },
 "nbformat": 4,
 "nbformat_minor": 2
}
