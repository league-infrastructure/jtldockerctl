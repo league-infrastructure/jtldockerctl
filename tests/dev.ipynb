{
 "cells": [
  {
   "cell_type": "code",
   "execution_count": 24,
   "metadata": {},
   "outputs": [
    {
     "name": "stdout",
     "output_type": "stream",
     "text": [
      "The autoreload extension is already loaded. To reload it, use:\n",
      "  %reload_ext autoreload\n"
     ]
    }
   ],
   "source": [
    "%load_ext autoreload\n",
    "%autoreload 2\n",
    "\n",
    "import docker\n",
    "import logging\n",
    "from jtldockerctl.dctl import *\n",
    "import hashlib\n",
    "from names_generator import generate_name\n",
    "\n",
    "\n",
    "logging.basicConfig(level=logging.ERROR)\n",
    "logger.setLevel(logging.ERROR)\n",
    "\n",
    "config = {\n",
    "    \"images\": {\n",
    "        'novnc':  'ghcr.io/league-infrastructure/novnc-service:v0.1.3',\n",
    "        'python_cs': 'ghcr.io/league-infrastructure/league-infrastructure/docker-codeserver-python:v0.1.5'\n",
    "    },\n",
    "    \n",
    "    'repos': {\n",
    "        'python_apprentice': 'https://github.com/league-curriculum/Python-Apprentice'\n",
    "    },\n",
    "    \n",
    "    'repo_dir': '/mnt/student_repos',\n",
    "    \n",
    "    'hostname_template': \"{slugify(username)}.do.jointheleague.org\",\n",
    "    \n",
    "}\n",
    "\n",
    "client = docker.DockerClient(base_url=f'ssh://root@64.23.135.161' )\n",
    "\n",
    "ensure_network_exists(client, 'x11', is_external=False, network_type=\"bridge\")\n",
    "ensure_network_exists(client, 'caddy', is_external=True, network_type=\"bridge\")\n",
    "                        \n",
    "image = config['images']['python_cs']\n",
    "repo = config['repos']['python_apprentice']"
   ]
  },
  {
   "cell_type": "code",
   "execution_count": 26,
   "metadata": {},
   "outputs": [
    {
     "name": "stdout",
     "output_type": "stream",
     "text": [
      "----\n",
      "3820892625d2be078364559d41a2da0c74e748f39f4ef2d19d651eadbdc8bf8b jed-cs.do.jointheleague.org\n",
      "97aa8143ca5e4af01f8658788da848a006a250b8619f0fc62e11818353217e9a osvaldo-cs.do.jointheleague.org\n",
      "1fa1fb4b1ee7d5ad0f14db168052609dd692d11771dd954830233e69f206b4a4 eric-cs.do.jointheleague.org\n"
     ]
    }
   ],
   "source": [
    "def make_servers(usernames):\n",
    "    servers = []\n",
    "    for username in usernames:\n",
    "        nvc, pa = create_cs_pair(client, config, image, username, reset=True)\n",
    "        yield (nvc, pa)\n",
    "    return servers\n",
    "\n",
    "print('----')\n",
    "for nvc, pa in make_servers(['jed','osvaldo', 'eric']):\n",
    "    print(nvc.id, pa.labels['caddy'])\n",
    "\n"
   ]
  },
  {
   "cell_type": "code",
   "execution_count": 25,
   "metadata": {},
   "outputs": [
    {
     "name": "stdout",
     "output_type": "stream",
     "text": [
      "4c668f179dc25ccdd1a5b6ef42fab168c752473eebaf560023a6724643ec6df5 eric-cs.do.jointheleague.org\n",
      "292c0f8c68512b8eb8d7e4ed3ab910e9ee065f27e4f97eb251ee3a7dfd83366a eric-novnc.do.jointheleague.org\n",
      "08d978a27a6b303cfae95d8552bb2f39b0d0f3cf35ac00cd65b6be3f9ad39d61 osvaldo-cs.do.jointheleague.org\n",
      "c7ae7219dccf9f147c8f7fc8df56e0c454ec7359494f1e995cf97cda5ae5cb33 osvaldo-novnc.do.jointheleague.org\n",
      "3030cf155cc66a4ed77689d569a0e7c324f6a2e8e81240bba8cf1dbfd5d852e8 jed-cs.do.jointheleague.org\n",
      "3dd29d032470b39128f1db88c0c5c655e60f9db558b89b813909b8a28f8c4ad2 jed-novnc.do.jointheleague.org\n"
     ]
    }
   ],
   "source": [
    "\n",
    "containers = client.containers.list(filters={\"label\": f\"jtl\"}, all=True)\n",
    "\n",
    "for c in containers:\n",
    "    print(c.id, c.labels['caddy'])\n",
    "    c.remove(force=True)    "
   ]
  }
 ],
 "metadata": {
  "kernelspec": {
   "display_name": ".venv",
   "language": "python",
   "name": "python3"
  },
  "language_info": {
   "codemirror_mode": {
    "name": "ipython",
    "version": 3
   },
   "file_extension": ".py",
   "mimetype": "text/x-python",
   "name": "python",
   "nbconvert_exporter": "python",
   "pygments_lexer": "ipython3",
   "version": "3.11.11"
  }
 },
 "nbformat": 4,
 "nbformat_minor": 2
}
